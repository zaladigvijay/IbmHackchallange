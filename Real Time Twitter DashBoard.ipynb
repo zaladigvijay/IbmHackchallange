{
 "cells": [
  {
   "cell_type": "code",
   "execution_count": 26,
   "metadata": {},
   "outputs": [],
   "source": [
    "import dash\n",
    "from dash.dependencies import Output, Input\n",
    "import dash_core_components as dcc\n",
    "import dash_html_components as html\n",
    "from dash.exceptions import PreventUpdate\n",
    "import plotly\n",
    "import random\n",
    "import plotly.graph_objs as go\n",
    "import pandas as pd\n",
    "import datetime as dt\n",
    "import dash_bootstrap_components as dbc\n",
    "import nltk\n",
    "from nltk.corpus import stopwords\n",
    "from nltk.tokenize import word_tokenize\n",
    "from wordcloud import WordCloud\n",
    "import matplotlib.pyplot as plt\n",
    "from io import BytesIO\n",
    "import base64\n",
    "from cloudant import cloudant\n",
    "from cloudant.client import Cloudant\n",
    "from cloudant.result import Result, ResultByKey\n",
    "from cloudant.adapters import Replay429Adapter"
   ]
  },
  {
   "cell_type": "code",
   "execution_count": 27,
   "metadata": {},
   "outputs": [],
   "source": [
    "#this function is used to read data from csv file that contain past tweets \n",
    "def get_data():\n",
    "    data=pd.read_csv(\"file_name.csv\")\n",
    "    return data"
   ]
  },
  {
   "cell_type": "code",
   "execution_count": 28,
   "metadata": {},
   "outputs": [],
   "source": [
    "#this function is used to filter tweet based on polarity score\n",
    "def filter_tweets(data,filter=\"natural\"):\n",
    "    if filter == \"positive\":\n",
    "        return data.loc[data['polarity'] > 0]\n",
    "    elif filter == \"negative\":\n",
    "        return data.loc[data['polarity'] < 0]\n",
    "    else:\n",
    "        return data.loc[data['polarity'] == 0]\n",
    "    "
   ]
  },
  {
   "cell_type": "code",
   "execution_count": 29,
   "metadata": {},
   "outputs": [],
   "source": [
    "#this function is used to fetch new tweet from cloudant database and return new dataframe\n",
    "def get_new_tweets():\n",
    "    result_collection = Result(my_database.all_docs, include_docs=True)\n",
    "    lst=[]\n",
    "    for i in result_collection:\n",
    "        lst.append([i['doc']['_id'], i['doc']['createdate'] , i['doc']['text'] , i['doc']['polarity'], i['doc']['subjectivity'],i['doc']['user_location'],i['doc']['longitude'],i['doc']['latitude'],str(i['doc']['hashtag'])])\n",
    "    return pd.DataFrame(lst,columns=['Tweet_id','Tweet_date','Tweet_text','polarity','subjectivity','user_location','longitude','latitude','hashtags'])"
   ]
  },
  {
   "cell_type": "code",
   "execution_count": 30,
   "metadata": {},
   "outputs": [],
   "source": [
    "#This function is used to get corona case count \n",
    "def CaseCount():\n",
    "    import requests\n",
    "    url = \"https://api.rootnet.in/covid19-in/stats/latest\"\n",
    "    payload = {}\n",
    "    headers= {}\n",
    "    \n",
    "    response = requests.request(\"GET\", url, headers=headers, data = payload)\n",
    "    data = response.json()\n",
    "    totalcase  = data['data']['summary']['confirmedCasesIndian']\n",
    "    totaldeaths = data['data']['summary']['deaths']\n",
    "    totaldischarge  = data['data']['summary']['discharged'] \n",
    "    return totalcase,totaldeaths,totaldischarge"
   ]
  },
  {
   "cell_type": "code",
   "execution_count": 31,
   "metadata": {},
   "outputs": [],
   "source": [
    "\n",
    "client=Cloudant.iam('47400d77-738e-4f53-af75-2724098f1441-bluemix', 'VZrTowm8KS127Ui8yY5muDYFWQmnaDtM2NvJpoij3hZp', connect=True, adapter=Replay429Adapter(retries=10, initialBackoff=0.01))\n",
    "my_database = client[\"corona_tweet\"]\n",
    "\n",
    "data=get_data()\n",
    "past_data=data\n",
    "\n",
    "past_positive_tweets=filter_tweets(data,'positive');\n",
    "positive_tweets=past_positive_tweets\n",
    "\n",
    "past_negative_tweets=filter_tweets(data,'negative');\n",
    "negative_tweets=past_negative_tweets\n",
    "\n",
    "past_natural_tweets=filter_tweets(data)\n",
    "natural_tweets=past_natural_tweets\n",
    "\n",
    "past_total_tweets=len(data)\n",
    "total_tweets=past_total_tweets\n",
    "\n",
    "past_positive_count=len(positive_tweets)\n",
    "positive_count=past_positive_count\n",
    "\n",
    "past_negative_count=len(negative_tweets)\n",
    "negative_count=past_negative_count\n",
    "\n",
    "past_natural_count=len(natural_tweets)\n",
    "natural_count=past_natural_count\n",
    "\n",
    "tcase , tdeath , trecovery = CaseCount()"
   ]
  },
  {
   "cell_type": "code",
   "execution_count": 32,
   "metadata": {},
   "outputs": [],
   "source": [
    "#this function is used to update data\n",
    "def update_data():\n",
    "    global data,positive_tweets,natural_tweets,negative_tweets,positive_count,negative_count,natural_count,total_tweets\n",
    "    new_data=get_new_tweets()    \n",
    "    tcase , tdeath , trecovery = CaseCount()\n",
    "    \n",
    "    data=pd.concat([past_data,new_data],ignore_index=True)\n",
    "    data=data.sort_values(by='Tweet_date', ascending=False,ignore_index=True)\n",
    "    \n",
    "    positive_tweets=pd.concat([past_positive_tweets,filter_tweets(new_data,'positive')])\n",
    "    negative_tweets=pd.concat([past_negative_tweets,filter_tweets(new_data,'negative')])\n",
    "    natural_tweets=pd.concat([past_natural_tweets,filter_tweets(new_data)])\n",
    "    \n",
    "    positive_count=len(positive_tweets)\n",
    "    negative_count=len(negative_tweets)\n",
    "    natural_count=len(natural_tweets)\n",
    "    total_tweets = past_total_tweets + len(new_data)\n",
    "    "
   ]
  },
  {
   "cell_type": "code",
   "execution_count": 33,
   "metadata": {},
   "outputs": [],
   "source": [
    "#this function is used to get tweet count related to corona \n",
    "def corona_count(data):\n",
    "        return  len(data[(data['hashtags'].str.contains(\"covid19\"))|\n",
    "                         (data['hashtags'].str.contains(\"coronavirus\")) |\n",
    "                         (data['hashtags'].str.contains(\"coronaviruspandemic\"))|\n",
    "                        (data['hashtags'].str.contains(\"covid_19\"))])\n",
    " "
   ]
  },
  {
   "cell_type": "code",
   "execution_count": 34,
   "metadata": {},
   "outputs": [],
   "source": [
    "#this function is used to get tweet count related to lockdown\n",
    "def lockdown_count(data):\n",
    "        return  len(data[(data['hashtags'].str.contains(\"lockdown\"))])"
   ]
  },
  {
   "cell_type": "code",
   "execution_count": 35,
   "metadata": {},
   "outputs": [],
   "source": [
    "#this function is used to get count of tweet for particular location\n",
    "def get_location_count(data,user_location):\n",
    "    return  len(data[(data['user_location'].str.contains(user_location))])"
   ]
  },
  {
   "cell_type": "code",
   "execution_count": 36,
   "metadata": {},
   "outputs": [],
   "source": [
    "#this function generate tweet count area in dashboard\n",
    "def generate_tweet_count_area():\n",
    "    return html.Div(children=[\n",
    "         html.Div(children=[\n",
    "             html.Div(children=[\n",
    "                  html.Div(children=\"Total Tweets\",className='card-header'),\n",
    "                  html.Div(children=[html.H5(children=str(total_tweets),id=\"total_count\")],className='card-body'),                \n",
    "                 \n",
    "             ],className='card text-center text-white bg-info mb-3',style={'max-width': '14rem'})            \n",
    "            \n",
    "        ],className=\"col-md-2\"),\n",
    "        html.Div(children=[\n",
    "            html.Div(children=[\n",
    "                  html.Div(children=\"Positive Tweets\",className='card-header'),\n",
    "                  html.Div(children=[html.H5(children=str(positive_count),id=\"positive_count\")],className='card-body'),                \n",
    "                 \n",
    "             ],className='card text-center text-white bg-success mb-3',style={'max-width': '14rem'})            \n",
    "            \n",
    "        ],className=\"col-md-2\"),\n",
    "        html.Div(children=[\n",
    "             html.Div(children=[\n",
    "                  html.Div(children=\"Negative Tweets\",className='card-header'),\n",
    "                  html.Div(children=[html.H5(children=str(negative_count),id=\"negative_count\")],className='card-body'),                \n",
    "                 \n",
    "             ],className='card text-center text-white bg-danger mb-3',style={'max-width': '14rem'})            \n",
    "            \n",
    "        ],className=\"col-md-2\"),\n",
    "       \n",
    "        html.Div(children=[\n",
    "             html.Div(children=[\n",
    "                  html.Div(children=\"Natural Tweets\",className='card-header'),\n",
    "                  html.Div(children=[html.H5(children=str(natural_count),id=\"natural_count\")],className='card-body'),                \n",
    "                 \n",
    "             ],className='card text-center text-white bg-primary mb-3',style={'max-width': '14rem'})            \n",
    "            \n",
    "        ],className=\"col-md-2\"), \n",
    "        \n",
    "         html.Div(children=[\n",
    "             html.Div(children=[\n",
    "                  html.Div(children=[\n",
    "                      html.H5(children=\"Total Confirmed Cases : \" + str(tcase)),\n",
    "                      html.H5(children=\"Total Deaths : \" + str(tdeath)),\n",
    "                      html.H5(children=\"Total Discharged : \" + str(trecovery)),\n",
    "                  ],className='card-body'),                \n",
    "                 \n",
    "             ],className='card text-black mb-6',style={'max-width': '28rem','height' : '121px'})            \n",
    "            \n",
    "        ],className=\"col-md-4\")    \n",
    "    \n",
    "    ],className='row')\n",
    "        "
   ]
  },
  {
   "cell_type": "code",
   "execution_count": 37,
   "metadata": {},
   "outputs": [],
   "source": [
    "#this function generate recent tweet area in dashboarf\n",
    "def get_recent_tweet_ui(data):\n",
    "     return dbc.Card(dbc.CardBody([\n",
    "        html.Div(\"Recent Tweets\",className=\"card-title\"),\n",
    "        html.Hr(),\n",
    "        html.Div(children=[   \n",
    "            get_recent_tweet(data['Tweet_text'][i],float(data['polarity'][i]))  for i in range(3)]),\n",
    "         html.Div(\"Last updated at \" +data['Tweet_date'][0] ,className=\"card-footer\")\n",
    "\n",
    "     ]))\n",
    "\n",
    "#this function return color for tweet area\n",
    "def get_color_class(polarity):\n",
    "    if polarity > 0:\n",
    "        return \"alert-success\";\n",
    "    elif polarity < 0:\n",
    "        return \"alert-danger\";\n",
    "    else:\n",
    "        return \"alert-primary\"\n",
    "    \n",
    "#this function tweet area in recent tweet part\n",
    "def get_recent_tweet(text,polarity):\n",
    "    return  html.Div(children=text,className=\"alert \"+get_color_class(polarity) )\n",
    "      "
   ]
  },
  {
   "cell_type": "code",
   "execution_count": 38,
   "metadata": {},
   "outputs": [],
   "source": [
    "#this function is used to count of particular hashtag\n",
    "def get_hashtags_count(data,hashtag):\n",
    "    return  len(data[(data['hashtags'].str.contains(hashtag))]);\n",
    "\n",
    "#this function generate bar chart for hashtag and their count                   \n",
    "def update_hashtag_bar_chart(data):\n",
    "    y=['covid19','covid_19','coronavirus','coronaviruspandemic','lockdown','socialdistancing']\n",
    "    x={i:get_hashtags_count(data,i) for i in y} \n",
    "    x = dict(sorted(x.items(), key=lambda i: i[1]))\n",
    "    hashtag_bar_fig = go.Bar(\n",
    "            y=list(x.keys()),\n",
    "            x=list(x.values()),\n",
    "            text=list(x.values()),textposition='auto',\n",
    "            orientation='h')\n",
    "    return dbc.Card(dbc.CardBody([\n",
    "            html.Div(\"Tweets Hashtags Count\".upper(), className=\"card-title\"),\n",
    "            html.Hr(),\n",
    "            html.Div(children=[dcc.Graph(figure={'data':[hashtag_bar_fig],'layout':{'width':'100%','display':'inline-block'}})],\n",
    "                style={'margin-left':'0px'})\n",
    "            ]))\n"
   ]
  },
  {
   "cell_type": "code",
   "execution_count": 51,
   "metadata": {},
   "outputs": [],
   "source": [
    "#this function is used to get count of tweet for particular country\n",
    "def get_country_count(data,country):\n",
    "    return len(data[(data['user_location'].str.contains(country))])\n",
    "  \n",
    "#this function is used to generate bar chart for country and count of tweet for that country    \n",
    "def update_country_bar_chart(data):\n",
    "    y=['india','london','united kingdom','united states','japan','new york','south africa','china','australia','canada','pakistan','england']\n",
    "    x={i:get_country_count(data.dropna(subset=['user_location']),i) for i in y} \n",
    "    print(x)\n",
    "    x = dict(sorted(x.items(), key=lambda i: i[1]))\n",
    "    country_bar_fig = go.Bar(\n",
    "            y=list(x.keys()),\n",
    "            x=list(x.values()),\n",
    "            text=list(x.values()),textposition='auto',\n",
    "            orientation='h')\n",
    "    return dbc.Card(dbc.CardBody([\n",
    "            html.Div(\"Tweets Country Count\".upper(), className=\"card-title\"),\n",
    "            html.Hr(),\n",
    "            html.Div(children=[dcc.Graph(figure={'data':[country_bar_fig],'layout':{'width':'100%','display':'inline-block'}})],\n",
    "                style={'margin-left':'0px'})\n",
    "            ]))\n",
    "   \n",
    "\n",
    "\n",
    "\n"
   ]
  },
  {
   "cell_type": "code",
   "execution_count": 40,
   "metadata": {},
   "outputs": [],
   "source": [
    "#this fuction generate pie chart for corona related tweets\n",
    "def update_pie_corona(positive_tweets,negative_tweets):\n",
    "    postive_tweet_corona=corona_count(positive_tweets)\n",
    "    negative_tweet_corona=corona_count(negative_tweets)\n",
    "    colors = ['rgb(0, 204,0)', 'rgb(255, 102, 102)']\n",
    "    labels = ['Positive','Negative']\n",
    "    corona_values = [postive_tweet_corona, negative_tweet_corona]\n",
    "    corona_fig = go.Figure(data=[go.Pie(labels=labels, values=corona_values,marker_colors=colors,pull=[0, 0.1])])\n",
    "        \n",
    "    return dbc.Card(dbc.CardBody([\n",
    "        html.Div(\"Behaviour Of People About Corona\".upper(),className=\"card-title\"),\n",
    "        html.Hr(),\n",
    "        html.Div(children=[dcc.Graph(figure=corona_fig)])\n",
    "    ]))"
   ]
  },
  {
   "cell_type": "code",
   "execution_count": 41,
   "metadata": {},
   "outputs": [],
   "source": [
    "#this fuction generate pie chart for lockdown related tweets\n",
    "def update_pie_lockdown(positive_tweets,negative_tweets):\n",
    "    postive_tweet_lockdown=lockdown_count(positive_tweets)\n",
    "    negative_tweet_lockdown=lockdown_count(negative_tweets)\n",
    "    colors = ['rgb(0, 204,0)', 'rgb(255, 102, 102)']\n",
    "    labels = ['Positive','Negative']\n",
    "    lockdown_values=[postive_tweet_lockdown,negative_tweet_lockdown]\n",
    "    lockdown_fig = go.Figure(data=[go.Pie(labels=labels, values=lockdown_values,marker_colors=colors,pull=[0, 0.1])])\n",
    "    \n",
    "    return dbc.Card(dbc.CardBody([\n",
    "        html.Div(\"Behaviour Of People About Lockdown\".upper(),className=\"card-title\"),\n",
    "        html.Hr(),\n",
    "        html.Div(children=[dcc.Graph(figure=lockdown_fig)])\n",
    "    ]))"
   ]
  },
  {
   "cell_type": "code",
   "execution_count": 42,
   "metadata": {},
   "outputs": [],
   "source": [
    "#this function is used get tweet count for particular date\n",
    "def get_date_count(data,date):\n",
    "    return  len(data[(data['Tweet_date'].str.contains(date))]);\n",
    "\n",
    "#this fucntion is used to generate bar char for data and tweet related to that date\n",
    "def update_date_histogram(positive_tweets,negative_tweets):\n",
    "    unique_date=set()\n",
    "    for i in positive_tweets['Tweet_date'].str.split():\n",
    "        unique_date.add(i[0])\n",
    "    unique_date=tuple(unique_date)\n",
    "    positive_date_count=[get_date_count(positive_tweets,i) for i in unique_date]\n",
    "    negative_date_count=[get_date_count(negative_tweets,i) for i in unique_date]\n",
    "    date_bar_fig = go.Figure(go.Bar(x=unique_date, y=positive_date_count,name=\"Positive Tweets\"))\n",
    "    date_bar_fig.add_trace(go.Bar(x=unique_date, y=negative_date_count,name=\"Negative Tweets\"))\n",
    "    date_bar_fig.update_layout(barmode='stack')\n",
    "    \n",
    "    return dbc.Card(dbc.CardBody([\n",
    "        html.Div(\"Positive Tweets And Negative Tweet Based On Date\".upper(),className=\"card-title\"),\n",
    "        html.Hr(),\n",
    "        html.Div(children=[dcc.Graph(figure=date_bar_fig)])\n",
    "    ]))\n",
    "   "
   ]
  },
  {
   "cell_type": "code",
   "execution_count": 43,
   "metadata": {},
   "outputs": [],
   "source": [
    "#this fucntion is used to generate map area for dashboard\n",
    "def update_map_count(positive_tweets,negative_tweets,natural_tweets):\n",
    "    postive_map=positive_tweets.dropna()\n",
    "    negative_map=negative_tweets.dropna()\n",
    "    natural_map=natural_tweets.dropna()\n",
    "    postive_map=postive_map.reset_index(drop=True)\n",
    "    negative_map=negative_map.reset_index(drop=True)\n",
    "    natural_map=natural_map.reset_index(drop=True)\n",
    "    mapbox_access_token = \"pk.eyJ1IjoiemFsYWRpZzk4IiwiYSI6ImNrYnMxa25kNDFnamwycXBuZG9mY21xMTkifQ.XF_6Tby0q6dC74U7gQjEYQ\"\n",
    "\n",
    "    map_fig = go.Figure()\n",
    "\n",
    "    map_fig.add_trace(go.Scattermapbox(\n",
    "            lat=postive_map['latitude'],\n",
    "            lon=postive_map['longitude'],\n",
    "            mode='markers',\n",
    "            marker=go.scattermapbox.Marker(\n",
    "                size=8,\n",
    "                color='rgb(0,204, 0)',\n",
    "                opacity=0.7\n",
    "            ),\n",
    "           text=postive_map['Tweet_text'],\n",
    "            hoverinfo='text',name=\"Positive Tweets\"\n",
    "        ))\n",
    "\n",
    "    map_fig.add_trace(go.Scattermapbox(\n",
    "            lat=negative_map['latitude'],\n",
    "            lon=negative_map['longitude'],\n",
    "            mode='markers',\n",
    "            marker=go.scattermapbox.Marker(\n",
    "                size=8,\n",
    "                color='rgb(255, 102, 102)',\n",
    "                opacity=0.7\n",
    "            ),\n",
    "            text=negative_map['Tweet_text'],\n",
    "            hoverinfo='text',name=\"Negative Tweeta\"\n",
    "        ))\n",
    "    map_fig.add_trace(go.Scattermapbox(\n",
    "            lat=natural_tweets['latitude'],\n",
    "            lon=natural_tweets['longitude'],\n",
    "            mode='markers',\n",
    "            marker=go.scattermapbox.Marker(\n",
    "                size=8,\n",
    "                color='rgb(51, 152, 255)',\n",
    "                opacity=0.7\n",
    "            ),\n",
    "            text=natural_tweets['Tweet_text'],\n",
    "            hoverinfo='text',name=\"Natural Tweets\"\n",
    "        ))\n",
    "\n",
    "    map_fig.update_layout(\n",
    "        autosize=True,\n",
    "        hovermode='closest',\n",
    "        showlegend=True,\n",
    "        mapbox=dict(\n",
    "            accesstoken=mapbox_access_token,\n",
    "            bearing=0,\n",
    "            center=dict(\n",
    "                lat=20,\n",
    "                lon=78\n",
    "            ),\n",
    "            pitch=0,\n",
    "            zoom=2,\n",
    "            style='light'\n",
    "        ),\n",
    "    )\n",
    "   # map_fig.show()\n",
    "\n",
    "    return  dbc.Card(dbc.CardBody([\n",
    "            html.Div(\"Behaviour Of People About COVID-19\",className=\"card-title\"),\n",
    "            html.Hr(),\n",
    "            html.Div(children=[dcc.Graph(figure=map_fig)])\n",
    "        ]))\n",
    "\n"
   ]
  },
  {
   "cell_type": "code",
   "execution_count": 44,
   "metadata": {},
   "outputs": [],
   "source": [
    "#this function is used to generate word cloud and return image of that word cloud\n",
    "def plot_wordcloud(words):\n",
    "    wc = WordCloud(background_color='black', width=400, height=360).generate(words)\n",
    "    return wc.to_image()\n",
    "\n",
    "#this function is make wordclud image and return base64 version of that image\n",
    "def make_image(words):\n",
    "    img = BytesIO()\n",
    "    plot_wordcloud(words).save(img, format='PNG')\n",
    "    return 'data:image/png;base64,{}'.format(base64.b64encode(img.getvalue()).decode())\n",
    "\n",
    "\n",
    "#this function is used to plot wordcloud image in dashboard\n",
    "def update_world_cloud(data):\n",
    "    tokenized_tweet = data['Tweet_text'].apply(lambda x: str(x).split())\n",
    "    stop_words = set(stopwords.words('english'))\n",
    "    for i in tokenized_tweet:\n",
    "        for j in list(i):\n",
    "            if j in stop_words:\n",
    "                i.remove(j)\n",
    "    for i in range(len(tokenized_tweet)):\n",
    "        tokenized_tweet[i] = ' '.join(tokenized_tweet[i])\n",
    "    all_words = ' '.join([text for text in tokenized_tweet])\n",
    "\n",
    "    return  dbc.Card(dbc.CardBody([\n",
    "        html.Div(\"Tweets Word Cloud\",className=\"card-title\"),\n",
    "        html.Hr(),\n",
    "        html.Div(children=[\n",
    "            html.Img(src=make_image(all_words))\n",
    "            #html.Img(src=\"download.jpg\")\n",
    "            \n",
    "        ])\n",
    "    ]))\n",
    "        \n"
   ]
  },
  {
   "cell_type": "code",
   "execution_count": 45,
   "metadata": {},
   "outputs": [],
   "source": [
    "#this function is used to update dashboard ui\n",
    "def update_ui():\n",
    "    update_data()\n",
    "    return html.Div(children=[\n",
    "        dbc.NavbarSimple(\n",
    "        brand=\"COVID-19 TWEET SENTIMENT ANALYSIS\",\n",
    "        color=\"primary\",\n",
    "        dark=True),\n",
    "        html.Hr(),\n",
    "        #Tweet count panel\n",
    "        generate_tweet_count_area(),\n",
    "        #graph panel area\n",
    "        html.Hr(),\n",
    "      \n",
    "        html.Div(children=[\n",
    "            #first part of graph panel recet tweeet and word cloud\n",
    "            html.Div(children=[\n",
    "                get_recent_tweet_ui(data),\n",
    "                html.Hr(),\n",
    "                update_date_histogram(positive_tweets,negative_tweets),\n",
    "                html.Hr()],\n",
    "                #update_map_count(positive_tweets,negative_tweets,natural_tweets)],\n",
    "            className=\"col-md-4\"),\n",
    "            \n",
    "            #second part hashtag bar and countery bar chart\n",
    "            html.Div(children=[\n",
    "                update_pie_corona(positive_tweets,negative_tweets),\n",
    "                html.Hr(),\n",
    "                update_hashtag_bar_chart(data),\n",
    "                html.Hr()],\n",
    "            className=\"col-md-4\"),\n",
    "            \n",
    "            #third part cororna pie and lockdown pie\n",
    "            html.Div(children=[\n",
    "                update_pie_lockdown(positive_tweets,negative_tweets),\n",
    "                html.Hr(),\n",
    "                update_country_bar_chart(data),\n",
    "                html.Hr()],\n",
    "            className=\"col-md-4\")],className='row'),\n",
    "    \n",
    "    \n",
    "        html.Div(children=[\n",
    "            #first part of graph panel recet tweeet and word cloud\n",
    "            html.Div(children=[\n",
    "                update_world_cloud(data),\n",
    "                html.Hr()],\n",
    "                #update_map_count(positive_tweets,negative_tweets,natural_tweets)],\n",
    "            className=\"col-md-4\"),\n",
    "            \n",
    "            #second part hashtag bar and countery bar chart\n",
    "            html.Div(children=[\n",
    "                update_map_count(positive_tweets,negative_tweets,natural_tweets),\n",
    "                html.Hr()],\n",
    "            className=\"col-md-8\")],className='row')\n",
    "    \n",
    "    ])"
   ]
  },
  {
   "cell_type": "code",
   "execution_count": 46,
   "metadata": {},
   "outputs": [],
   "source": [
    "#external scripts\n",
    "external_scripts = [\n",
    "    {\n",
    "        'src': 'https://code.jquery.com/jquery-3.2.1.slim.min.js',\n",
    "        'integrity': 'sha384-KJ3o2DKtIkvYIK3UENzmM7KCkRr/rE9/Qpg6aAZGJwFDMVNA/GpGFF93hXpG5KkN',\n",
    "        'crossorigin': 'anonymous'\n",
    "    },\n",
    "     {\n",
    "        'src': 'https://cdnjs.cloudflare.com/ajax/libs/popper.js/1.12.9/umd/popper.min.js',\n",
    "        'integrity': 'sha384-ApNbgh9B+Y1QKtv3Rn7W3mgPxhU9K/ScQsAP7hUibX39j7fakFPskvXusvfa0b4Q',\n",
    "        'crossorigin': 'anonymous'\n",
    "    },\n",
    "    {\n",
    "        'src': 'https://maxcdn.bootstrapcdn.com/bootstrap/4.0.0/js/bootstrap.min.js',\n",
    "        'integrity': 'sha384-JZR6Spejh4U02d8jOt6vLEHfe/JQGiRRSQQxSfFWpi1MquVdAyjUar5+76PVCmYl',\n",
    "        'crossorigin': 'anonymous'\n",
    "    }\n",
    "    \n",
    "]\n",
    "# external CSS stylesheets\n",
    "external_stylesheets = [\n",
    "    {\n",
    "        'href': 'https://maxcdn.bootstrapcdn.com/bootstrap/4.0.0/css/bootstrap.min.css',\n",
    "        'rel': 'stylesheet',\n",
    "        'integrity': 'sha384-Gn5384xqQ1aoWXA+058RXPxPg6fy4IWvTNh0E263XmFcJlSAwiGgFAW/dAiS6JXm',\n",
    "        'crossorigin': 'anonymous'\n",
    "    }\n",
    "]\n",
    "\n",
    "app=dash.Dash(__name__, external_scripts=external_scripts,\n",
    "                external_stylesheets=external_stylesheets)\n",
    "app.title=\"Corona Virus Tweet Sentiment Analysis\""
   ]
  },
  {
   "cell_type": "code",
   "execution_count": 47,
   "metadata": {},
   "outputs": [],
   "source": [
    "def get_ui():\n",
    "    return html.Div(id='live-update',\n",
    "    children=[update_ui()]\n",
    "    ,className='container-fluid',style={\"background-color\" : 'black'})"
   ]
  },
  {
   "cell_type": "code",
   "execution_count": 48,
   "metadata": {},
   "outputs": [
    {
     "name": "stdout",
     "output_type": "stream",
     "text": [
      "{'india': 1445, 'london': 813, 'united kingdom': 470, 'united states': 500, 'japan': 15, 'new york': 359, 'south africa': 278, 'china': 24, 'australia': 171, 'canada': 286, 'pakistan': 112, 'england': 799}\n"
     ]
    }
   ],
   "source": [
    "\n",
    "app.layout=get_ui\n",
    "    \n",
    "                    \n"
   ]
  },
  {
   "cell_type": "code",
   "execution_count": null,
   "metadata": {},
   "outputs": [],
   "source": []
  },
  {
   "cell_type": "code",
   "execution_count": 50,
   "metadata": {},
   "outputs": [
    {
     "name": "stdout",
     "output_type": "stream",
     "text": [
      " * Serving Flask app \"__main__\" (lazy loading)\n",
      " * Environment: production\n",
      "   WARNING: This is a development server. Do not use it in a production deployment.\n",
      "   Use a production WSGI server instead.\n",
      " * Debug mode: off\n"
     ]
    },
    {
     "name": "stderr",
     "output_type": "stream",
     "text": [
      " * Running on http://127.0.0.1:8050/ (Press CTRL+C to quit)\n"
     ]
    },
    {
     "name": "stdout",
     "output_type": "stream",
     "text": [
      "{'india': 1448, 'london': 814, 'united kingdom': 470, 'united states': 501, 'japan': 15, 'new york': 360, 'south africa': 280, 'china': 24, 'australia': 171, 'canada': 288, 'pakistan': 113, 'england': 800}\n"
     ]
    },
    {
     "name": "stderr",
     "output_type": "stream",
     "text": [
      "127.0.0.1 - - [14/Jul/2020 00:52:25] \"\u001b[37mGET / HTTP/1.1\u001b[0m\" 200 -\n",
      "127.0.0.1 - - [14/Jul/2020 00:52:26] \"\u001b[37mGET /_dash-dependencies HTTP/1.1\u001b[0m\" 200 -\n",
      "127.0.0.1 - - [14/Jul/2020 00:52:26] \"\u001b[37mGET /_favicon.ico?v=1.12.0 HTTP/1.1\u001b[0m\" 200 -\n"
     ]
    },
    {
     "name": "stdout",
     "output_type": "stream",
     "text": [
      "{'india': 1448, 'london': 814, 'united kingdom': 470, 'united states': 501, 'japan': 15, 'new york': 360, 'south africa': 280, 'china': 24, 'australia': 171, 'canada': 288, 'pakistan': 113, 'england': 800}\n"
     ]
    },
    {
     "name": "stderr",
     "output_type": "stream",
     "text": [
      "127.0.0.1 - - [14/Jul/2020 00:52:35] \"\u001b[37mGET /_dash-layout HTTP/1.1\u001b[0m\" 200 -\n",
      "127.0.0.1 - - [14/Jul/2020 00:57:34] \"\u001b[37mGET / HTTP/1.1\u001b[0m\" 200 -\n",
      "127.0.0.1 - - [14/Jul/2020 00:57:34] \"\u001b[37mGET /_dash-dependencies HTTP/1.1\u001b[0m\" 200 -\n",
      "127.0.0.1 - - [14/Jul/2020 00:57:34] \"\u001b[37mGET /_favicon.ico?v=1.12.0 HTTP/1.1\u001b[0m\" 200 -\n"
     ]
    },
    {
     "name": "stdout",
     "output_type": "stream",
     "text": [
      "{'india': 1448, 'london': 814, 'united kingdom': 470, 'united states': 501, 'japan': 15, 'new york': 360, 'south africa': 280, 'china': 24, 'australia': 171, 'canada': 288, 'pakistan': 113, 'england': 800}\n"
     ]
    },
    {
     "name": "stderr",
     "output_type": "stream",
     "text": [
      "127.0.0.1 - - [14/Jul/2020 00:57:46] \"\u001b[37mGET /_dash-layout HTTP/1.1\u001b[0m\" 200 -\n"
     ]
    }
   ],
   "source": [
    "if __name__ == \"__main__\":\n",
    "    app.run_server()\n"
   ]
  },
  {
   "cell_type": "code",
   "execution_count": null,
   "metadata": {},
   "outputs": [],
   "source": []
  },
  {
   "cell_type": "code",
   "execution_count": null,
   "metadata": {},
   "outputs": [],
   "source": []
  },
  {
   "cell_type": "code",
   "execution_count": null,
   "metadata": {},
   "outputs": [],
   "source": []
  },
  {
   "cell_type": "code",
   "execution_count": null,
   "metadata": {},
   "outputs": [],
   "source": []
  },
  {
   "cell_type": "code",
   "execution_count": null,
   "metadata": {},
   "outputs": [],
   "source": []
  },
  {
   "cell_type": "code",
   "execution_count": null,
   "metadata": {},
   "outputs": [],
   "source": []
  },
  {
   "cell_type": "code",
   "execution_count": null,
   "metadata": {},
   "outputs": [],
   "source": []
  },
  {
   "cell_type": "code",
   "execution_count": null,
   "metadata": {},
   "outputs": [],
   "source": []
  },
  {
   "cell_type": "code",
   "execution_count": null,
   "metadata": {},
   "outputs": [],
   "source": [
    "\n",
    "   \n",
    "\n",
    "\n",
    "\n",
    "    "
   ]
  },
  {
   "cell_type": "code",
   "execution_count": null,
   "metadata": {},
   "outputs": [],
   "source": []
  },
  {
   "cell_type": "code",
   "execution_count": null,
   "metadata": {},
   "outputs": [],
   "source": [
    "\n",
    "    "
   ]
  },
  {
   "cell_type": "code",
   "execution_count": null,
   "metadata": {},
   "outputs": [],
   "source": []
  },
  {
   "cell_type": "code",
   "execution_count": null,
   "metadata": {},
   "outputs": [],
   "source": [
    "\n",
    "                             \n",
    "                        "
   ]
  },
  {
   "cell_type": "code",
   "execution_count": null,
   "metadata": {},
   "outputs": [],
   "source": [
    "\n",
    "\n"
   ]
  },
  {
   "cell_type": "code",
   "execution_count": null,
   "metadata": {},
   "outputs": [],
   "source": []
  },
  {
   "cell_type": "code",
   "execution_count": null,
   "metadata": {},
   "outputs": [],
   "source": []
  },
  {
   "cell_type": "code",
   "execution_count": null,
   "metadata": {},
   "outputs": [],
   "source": []
  },
  {
   "cell_type": "code",
   "execution_count": null,
   "metadata": {},
   "outputs": [],
   "source": []
  },
  {
   "cell_type": "code",
   "execution_count": null,
   "metadata": {},
   "outputs": [],
   "source": []
  },
  {
   "cell_type": "code",
   "execution_count": null,
   "metadata": {},
   "outputs": [],
   "source": []
  },
  {
   "cell_type": "code",
   "execution_count": null,
   "metadata": {},
   "outputs": [],
   "source": []
  },
  {
   "cell_type": "code",
   "execution_count": null,
   "metadata": {},
   "outputs": [],
   "source": [
    "\n"
   ]
  },
  {
   "cell_type": "code",
   "execution_count": null,
   "metadata": {},
   "outputs": [],
   "source": []
  },
  {
   "cell_type": "code",
   "execution_count": null,
   "metadata": {},
   "outputs": [],
   "source": []
  },
  {
   "cell_type": "code",
   "execution_count": null,
   "metadata": {},
   "outputs": [],
   "source": []
  },
  {
   "cell_type": "code",
   "execution_count": null,
   "metadata": {},
   "outputs": [],
   "source": []
  },
  {
   "cell_type": "code",
   "execution_count": null,
   "metadata": {},
   "outputs": [],
   "source": []
  },
  {
   "cell_type": "code",
   "execution_count": null,
   "metadata": {},
   "outputs": [],
   "source": []
  },
  {
   "cell_type": "code",
   "execution_count": null,
   "metadata": {},
   "outputs": [],
   "source": []
  },
  {
   "cell_type": "code",
   "execution_count": null,
   "metadata": {},
   "outputs": [],
   "source": [
    "\n"
   ]
  },
  {
   "cell_type": "code",
   "execution_count": null,
   "metadata": {},
   "outputs": [],
   "source": []
  },
  {
   "cell_type": "code",
   "execution_count": null,
   "metadata": {},
   "outputs": [],
   "source": []
  },
  {
   "cell_type": "code",
   "execution_count": null,
   "metadata": {},
   "outputs": [],
   "source": []
  },
  {
   "cell_type": "code",
   "execution_count": null,
   "metadata": {},
   "outputs": [],
   "source": []
  },
  {
   "cell_type": "code",
   "execution_count": null,
   "metadata": {},
   "outputs": [],
   "source": []
  }
 ],
 "metadata": {
  "kernelspec": {
   "display_name": "Python 3",
   "language": "python",
   "name": "python3"
  },
  "language_info": {
   "codemirror_mode": {
    "name": "ipython",
    "version": 3
   },
   "file_extension": ".py",
   "mimetype": "text/x-python",
   "name": "python",
   "nbconvert_exporter": "python",
   "pygments_lexer": "ipython3",
   "version": "3.7.6"
  }
 },
 "nbformat": 4,
 "nbformat_minor": 4
}
